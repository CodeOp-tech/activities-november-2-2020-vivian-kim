{
 "cells": [
  {
   "cell_type": "markdown",
   "metadata": {},
   "source": [
    "# Activities: November 2, 2020"
   ]
  },
  {
   "cell_type": "markdown",
   "metadata": {},
   "source": [
    "## Patient Class \n",
    "\n",
    "In this exercise we will make an \"Patient\" class. The Patient class should store the state of a patient in our hospital system."
   ]
  },
  {
   "cell_type": "markdown",
   "metadata": {},
   "source": [
    "#### Problem 1: \n",
    "\n",
    "Create a class called \"Patient\".\n",
    "The constructor should have two parameters\n",
    "(in addition to self, of course):\n",
    "\n",
    "1. name (str)\n",
    "2. symptoms (list of str)\n",
    "\n",
    "the parameters should be stored as attributes\n",
    "called \"name\" and \"symptoms\" respectively"
   ]
  },
  {
   "cell_type": "markdown",
   "metadata": {},
   "source": [
    "#### Problem 2: \n",
    "\n",
    "Create a method called \"add_test\"\n",
    "which takes two paramters:\n",
    "1. the name of the test (str)\n",
    "2. the results of the test (bool)\n",
    "\n",
    "This information should be stored somehow."
   ]
  },
  {
   "cell_type": "markdown",
   "metadata": {},
   "source": [
    "#### Problem 3: \n",
    "\n",
    "Create a method called has_covid()\n",
    "which takes no parameters.\n",
    "\n",
    "\"has_covid\" returns a float, between 0.0\n",
    "and 1.0, which represents the probability\n",
    "of the patient to have Covid-19\n",
    "\n",
    "The probability should work as follows:\n",
    "\n",
    "1. If the user has had the test \"covid\"\n",
    "   then it should return .99 if the test\n",
    "   is True and 0.01 if the test is False\n",
    "2. Otherwise, probability starts at 0.05\n",
    "   and ncreases by 0.1 for each of the\n",
    "   following symptoms:\n",
    "   ['fever', 'cough', 'anosmia']\n"
   ]
  },
  {
   "cell_type": "markdown",
   "metadata": {},
   "source": [
    "## Encoder Class\n",
    "\n",
    "In this exercise we will make an \"Encoder\" class\n",
    "\n",
    "The Encoder class should be able to encode\n",
    "a list of strings into a list of\n",
    "integers that can later be losslessly\n",
    "decoded.\n",
    "\n",
    "For example, if given a list of words:\n",
    "['Joan', 'went', 'to', 'the', 'store']\n",
    "it might encode:\n",
    "[245, 9873, 290, 10, 209]\n",
    "and be able to decode it back again\n",
    "to the list of words.\n",
    "\n",
    "HINT: you can use an integer attribute called \"index\";\n",
    "whenever you encounter a new word (string), increment \n",
    "the index and use that value to encode the word"
   ]
  },
  {
   "cell_type": "markdown",
   "metadata": {},
   "source": [
    "#### Problem 4:\n",
    "\n",
    "Create a class called \"Encoder.\"\n",
    "The constructor should have no\n",
    "parameters (besides, of course, \"self\")"
   ]
  },
  {
   "cell_type": "markdown",
   "metadata": {},
   "source": [
    "#### Problem 5:\n",
    "Add two methods: \"encode\" and \"decode\"\n",
    "\n",
    "\"encode\" should have a single parameter,\n",
    "a list of strings, and returns\n",
    "a list of integers which represents the\n",
    "encoding.\n",
    "\n",
    "\"decode\" should have a single parameter,\n",
    "a list of integers, and returns a list\n",
    "of strings, which should be the same as\n",
    "was passed to \"encode\""
   ]
  },
  {
   "cell_type": "markdown",
   "metadata": {},
   "source": [
    "## Bonus"
   ]
  },
  {
   "cell_type": "markdown",
   "metadata": {},
   "source": [
    "#### Problem 6: \n",
    "Your encoder has learned a \"mapping\"\n",
    "from strings to ints in order to encode\n",
    "its input data.\n",
    "\n",
    "Imagine we want to be able to \"export\"\n",
    "that mapping from one encoder and load it\n",
    "into another.\n",
    "\n",
    "Create a method called \"export_mapping\"\n",
    "and a method called \"import_mapping\".\n",
    "\n",
    "\"export_mapping\" should have no parameters,\n",
    "and should return an object that can be\n",
    "imported into another Encoder instance\n",
    "via the \"import_mapping\" method and\n",
    "used to encode/decode in the same way\n",
    "as the original.\n"
   ]
  },
  {
   "cell_type": "markdown",
   "metadata": {},
   "source": [
    "#### Problem 7:\n",
    "\n",
    "Modify your method \"encode\" so that it\n",
    "raises an exception if the input list\n",
    "has elements that cannot be encoded.\n",
    "(for example, if instead of a string,\n",
    "the list contains a nested complex data\n",
    "type, like a list or dictionary)\n",
    "\n",
    "The exception should say:\n",
    "\"Encoder.encode() was passed elements that it cannot encode\"\n"
   ]
  },
  {
   "cell_type": "markdown",
   "metadata": {},
   "source": [
    "#### Problem 8:\n",
    "\n",
    "Modify your method \"decode\" so that it\n",
    "raises a helpful exception if it cannot decode\n",
    "an integer in the provided list.\n",
    "\n",
    "The exception should say:\n",
    "\"Encoder.decode() was passed integers that it cannot decode\""
   ]
  }
 ],
 "metadata": {
  "kernelspec": {
   "display_name": "Python 3",
   "language": "python",
   "name": "python3"
  },
  "language_info": {
   "codemirror_mode": {
    "name": "ipython",
    "version": 3
   },
   "file_extension": ".py",
   "mimetype": "text/x-python",
   "name": "python",
   "nbconvert_exporter": "python",
   "pygments_lexer": "ipython3",
   "version": "3.8.5"
  }
 },
 "nbformat": 4,
 "nbformat_minor": 4
}
