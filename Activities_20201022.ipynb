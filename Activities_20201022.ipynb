{
 "cells": [
  {
   "cell_type": "markdown",
   "metadata": {},
   "source": [
    "# Activities: October 22, 2020"
   ]
  },
  {
   "cell_type": "markdown",
   "metadata": {},
   "source": [
    "## Problem 1: \n",
    "Given a list of integers, return the largest product that can be made by multiplying any three integers.\n",
    "\n",
    "For example, if the list is [-10, 5, 2], we should return 500, since that's -10 * -10 * 5.\n",
    "\n",
    "You can assume the list has at least three integers."
   ]
  },
  {
   "cell_type": "code",
   "execution_count": 9,
   "metadata": {},
   "outputs": [],
   "source": [
    "import numpy as np\n",
    "import itertools"
   ]
  },
  {
   "cell_type": "code",
   "execution_count": 132,
   "metadata": {},
   "outputs": [],
   "source": [
    "def prob1(array):\n",
    "    return max(np.prod(np.array(list(itertools.combinations(array,3))),1))"
   ]
  },
  {
   "cell_type": "markdown",
   "metadata": {},
   "source": [
    "## Problem 2: \n",
    "Given a string and a set of characters, return the shortest substring.\n",
    "\n",
    "For example, given the string \"thanksgiving\" and the set of characters is {i,g}, you should return \"ing\".\n",
    "\n",
    "If there is no substring containing all the characters in the set, return null."
   ]
  },
  {
   "cell_type": "code",
   "execution_count": 168,
   "metadata": {},
   "outputs": [],
   "source": [
    "def prob2(word,characters):\n",
    "\n",
    "    # Generate all substrings\n",
    "    allsub = []\n",
    "    for x,y in itertools.combinations(range(len(word) + 1),2):\n",
    "        allsub.append(word[x:y])\n",
    "    #sort by length\n",
    "    allsub = sorted(allsub,key=len)\n",
    "\n",
    "    # check whether all elements in characters are included\n",
    "    temp=0\n",
    "    for i in range(len(allsub)):\n",
    "        included = [(characters[c] in allsub[i]) for c in range(len(characters))]\n",
    "        if all(included):\n",
    "            print(allsub[i])\n",
    "            break\n",
    "        temp+=1\n",
    "        \n",
    "    if (temp==len(allsub)):\n",
    "        print(\"N/A\")"
   ]
  },
  {
   "cell_type": "code",
   "execution_count": 173,
   "metadata": {},
   "outputs": [
    {
     "name": "stdout",
     "output_type": "stream",
     "text": [
      "gi\n"
     ]
    }
   ],
   "source": [
    "prob2(\"thanksgiving\",[\"i\",\"g\"])"
   ]
  },
  {
   "cell_type": "markdown",
   "metadata": {},
   "source": [
    "Note: \n",
    "1. I solved the problem where the order doesn't matter. \n",
    "2. [This article](https://www.geeksforgeeks.org/find-the-smallest-window-in-a-string-containing-all-characters-of-another-string/) has explanations for their answers."
   ]
  },
  {
   "cell_type": "markdown",
   "metadata": {},
   "source": [
    "## Problem 3: \n",
    "\n",
    "Given a number in the form of a list of digits, return all possible permutations.\n",
    "\n",
    "For example, given [1,2,3], return [[1,2,3],[1,3,2],[2,1,3],[2,3,1],[3,1,2],[3,2,1]]."
   ]
  },
  {
   "cell_type": "code",
   "execution_count": 61,
   "metadata": {},
   "outputs": [],
   "source": [
    "def prob3(input_list):\n",
    "    return list(itertools.permutations(input_list))"
   ]
  },
  {
   "cell_type": "markdown",
   "metadata": {},
   "source": [
    "## Problem 4: \n",
    "\n",
    "Given n numbers, find the greatest common denominator between them.\n",
    "\n",
    "For example, given the numbers [42, 56, 14], return 14."
   ]
  },
  {
   "cell_type": "code",
   "execution_count": 226,
   "metadata": {},
   "outputs": [],
   "source": [
    "def gcd2(x, y): \n",
    "    while(y!=0):\n",
    "        x, y = y, x % y\n",
    "    return x "
   ]
  },
  {
   "cell_type": "code",
   "execution_count": 233,
   "metadata": {},
   "outputs": [],
   "source": [
    "def gcd(input_list):\n",
    "    if (len(input_list)>=2):\n",
    "        temp=gcd2(input_list[0],input_list[1])\n",
    "        for i in range(2,len(input_list)):\n",
    "            temp = gcd2(temp,input_list[i])\n",
    "    else:\n",
    "        temp = input_list\n",
    "        \n",
    "    return temp"
   ]
  },
  {
   "cell_type": "markdown",
   "metadata": {},
   "source": [
    "## Problem 5:\n",
    "\n",
    "Given any vector of integers as an input, write a function that returns mean value. Write a condition where if one of the number is None, then return mean of the other value. For example if the input is [1,2,3,4,None], then the function should return 2.5."
   ]
  },
  {
   "cell_type": "code",
   "execution_count": 48,
   "metadata": {},
   "outputs": [],
   "source": [
    "def prob5(input_list):\n",
    "    new_input_list = list(filter(None,input_list))\n",
    "    return (sum(new_input_list) / len(new_input_list))"
   ]
  }
 ],
 "metadata": {
  "kernelspec": {
   "display_name": "Python 3",
   "language": "python",
   "name": "python3"
  },
  "language_info": {
   "codemirror_mode": {
    "name": "ipython",
    "version": 3
   },
   "file_extension": ".py",
   "mimetype": "text/x-python",
   "name": "python",
   "nbconvert_exporter": "python",
   "pygments_lexer": "ipython3",
   "version": "3.8.5"
  }
 },
 "nbformat": 4,
 "nbformat_minor": 4
}
