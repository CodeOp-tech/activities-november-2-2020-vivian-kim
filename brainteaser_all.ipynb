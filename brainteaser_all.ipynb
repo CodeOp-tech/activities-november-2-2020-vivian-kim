{
 "cells": [
  {
   "cell_type": "markdown",
   "metadata": {},
   "source": [
    "# Shorter Problems"
   ]
  },
  {
   "cell_type": "markdown",
   "metadata": {},
   "source": [
    "#### October 19, 2020: Problem 2\n",
    "_#functions_\n",
    "\n",
    "Write a function that sends a message \"Happy Thanksgiving, [YOUR FRIEND'S NAME]\" where [YOUR FRIEND'S NAME] is an input of the function."
   ]
  },
  {
   "cell_type": "markdown",
   "metadata": {},
   "source": [
    "#### October 26, 2020: Problem 1\n",
    "_#functions #datatypes #conditionals_\n",
    "\n",
    "Write a function that takes a number and returns a list of its digits. So for 2342 it should return [2,3,4,2]"
   ]
  },
  {
   "cell_type": "markdown",
   "metadata": {},
   "source": [
    "#### October 19, 2020: Problem 1\n",
    "_#functions #data types #conditionals_\n",
    "\n",
    "Given a two number as an input, write a function that returns mean value. Write a condition where if one of the number is None, then return mean of the other value. \n",
    "\n",
    "For example, if the input is (5,None), then the function should return 5."
   ]
  },
  {
   "cell_type": "markdown",
   "metadata": {},
   "source": [
    "#### October 22, 2020: Problem 3\n",
    "\n",
    "_#functions #loops_\n",
    "\n",
    "Given a number in the form of a list of digits, return all possible permutations.\n",
    "\n",
    "For example, given [1,2,3], return [[1,2,3],[1,3,2],[2,1,3],[2,3,1],[3,1,2],[3,2,1]]."
   ]
  },
  {
   "cell_type": "markdown",
   "metadata": {},
   "source": [
    "#### October 22, 2020: Problem 5\n",
    "\n",
    "_#functions #loops #datatypes_\n",
    "\n",
    "\n",
    "Given any vector of integers as an input, write a function that returns mean value. Write a condition where if one of the number is None, then return mean of the other value. For example if the input is [1,2,3,4,None], then the function should return 2.5."
   ]
  },
  {
   "cell_type": "markdown",
   "metadata": {},
   "source": [
    "#### October 22, 2020: Problem 1\n",
    "_#functions #list_\n",
    "\n",
    "\n",
    "Given a list of integers, return the largest product that can be made by multiplying any three integers.\n",
    "\n",
    "For example, if the list is [-10, 5, 2], we should return 500, since that's -10 * -10 * 5.\n",
    "\n",
    "You can assume the list has at least three integers."
   ]
  },
  {
   "cell_type": "markdown",
   "metadata": {},
   "source": [
    "#### October 22, 2020: Problem 4\n",
    "_#functions #loop_\n",
    "\n",
    "Given n numbers, find the greatest common denominator between them.\n",
    "\n",
    "For example, given the numbers [42, 56, 14], return 14."
   ]
  },
  {
   "cell_type": "markdown",
   "metadata": {},
   "source": [
    "#### October 22, 2020 in Class: Palindrome\n",
    "_#functions #list_\n",
    "\n",
    "Write a program that checks whether an integer is a palindrome.\n",
    "\n",
    "For eample, 121 and 131 are palindromes. However, 123 is not a palindrome."
   ]
  },
  {
   "cell_type": "markdown",
   "metadata": {},
   "source": [
    "#### October 26, 2020: Problem 2\n",
    "_#functions #list #loop_\n",
    "\n",
    "Write a program that finds the longest palindromic substring of a given string."
   ]
  },
  {
   "cell_type": "markdown",
   "metadata": {},
   "source": [
    "#### October 26, 2020: Problem 3\n",
    "_#functions #list #conditionals_\n",
    "\n",
    "Write a function that prints all prime numbers smaller than x. \n",
    "\n",
    "Refer to [here](https://www.khanacademy.org/math/pre-algebra/pre-algebra-factors-multiples/pre-algebra-prime-numbers/v/prime-numbers#:~:text=Prime%20numbers%20are%20numbers%20that,factors%20are%20call%20composite%20numbers.) for definition of the **prime numbers**."
   ]
  },
  {
   "cell_type": "markdown",
   "metadata": {},
   "source": [
    "#### October 22, 2020 in Class: Does Any Two Numbers Sum to K?\n",
    "_#functions #loops #list #conditionals_\n",
    "\n",
    "Given a list of numbers, return whether any 2 numbers sums to k.\n",
    "\n",
    "For example, given [1, 2, 3, 5] and k of 7, return True. If k is 9, return False"
   ]
  },
  {
   "cell_type": "markdown",
   "metadata": {},
   "source": [
    "#### October 22, 2020: Problem 2\n",
    "_#functions #loops #conditionals #list_\n",
    "\n",
    "Given a string and a set of characters, return the shortest substring.\n",
    "\n",
    "For example, given the string \"thanksgiving\" and the set of characters is {i,g}, you should return \"ing\".\n",
    "\n",
    "If there is no substring containing all the characters in the set, return null."
   ]
  },
  {
   "cell_type": "markdown",
   "metadata": {},
   "source": [
    "# Longer Problems: Combining All Concepts!"
   ]
  },
  {
   "cell_type": "markdown",
   "metadata": {},
   "source": [
    "#### October 31, 2020 in Class: Egyptian Fractions"
   ]
  },
  {
   "cell_type": "markdown",
   "metadata": {},
   "source": [
    "#### October 22, 2020 in Class: Can you approximate  $\\pi$ using the area of a circle and a square formula?"
   ]
  },
  {
   "cell_type": "markdown",
   "metadata": {},
   "source": [
    "#### October 31, 2020 in Class: Egg Drop Problems"
   ]
  }
 ],
 "metadata": {
  "kernelspec": {
   "display_name": "Python 3",
   "language": "python",
   "name": "python3"
  },
  "language_info": {
   "codemirror_mode": {
    "name": "ipython",
    "version": 3
   },
   "file_extension": ".py",
   "mimetype": "text/x-python",
   "name": "python",
   "nbconvert_exporter": "python",
   "pygments_lexer": "ipython3",
   "version": "3.8.5"
  }
 },
 "nbformat": 4,
 "nbformat_minor": 4
}
