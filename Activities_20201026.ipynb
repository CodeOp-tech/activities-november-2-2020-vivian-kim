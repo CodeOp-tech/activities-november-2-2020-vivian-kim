{
 "cells": [
  {
   "cell_type": "markdown",
   "metadata": {},
   "source": [
    "# Activities: October 26, 2020"
   ]
  },
  {
   "cell_type": "markdown",
   "metadata": {},
   "source": [
    "## Problem 1: \n",
    "\n",
    "Write a function that takes a number and returns a list of its digits. So for 2342 it should return [2,3,4,2]"
   ]
  },
  {
   "cell_type": "code",
   "execution_count": 18,
   "metadata": {},
   "outputs": [],
   "source": [
    "def prob1(x):\n",
    "    return list(map(int,str(x)))"
   ]
  },
  {
   "cell_type": "code",
   "execution_count": 19,
   "metadata": {},
   "outputs": [],
   "source": [
    "def prob1(x):\n",
    "    return [int(i) for i in str(x)]"
   ]
  },
  {
   "cell_type": "code",
   "execution_count": 20,
   "metadata": {
    "scrolled": true
   },
   "outputs": [
    {
     "data": {
      "text/plain": [
       "[1, 2, 3, 4]"
      ]
     },
     "execution_count": 20,
     "metadata": {},
     "output_type": "execute_result"
    }
   ],
   "source": [
    "prob1(1234)"
   ]
  },
  {
   "cell_type": "markdown",
   "metadata": {},
   "source": [
    "## Problem 2: \n",
    "\n",
    "Write a program that finds the longest palindromic substring of a given string."
   ]
  },
  {
   "cell_type": "code",
   "execution_count": 43,
   "metadata": {},
   "outputs": [],
   "source": [
    "import itertools\n",
    "\n",
    "def prob2(x):\n",
    "    if not isinstance(x,str):\n",
    "        x = str(x)\n",
    "    \n",
    "    # Generate all substrings\n",
    "    allsubs=[]\n",
    "    for i,j in itertools.combinations(range(len(x)+1),2):\n",
    "        allsubs.append(x[i:j])\n",
    "    #sort by length\n",
    "    allsubs=sorted(allsubs,key=len,reverse=True)\n",
    "    \n",
    "    temp=0 # count k, in case no palindromic until the very end\n",
    "    for k in range(len(allsubs)):\n",
    "        if (allsubs[k][::-1]==allsubs[k]):\n",
    "            return allsubs[k]\n",
    "            break\n",
    "        temp+=1\n",
    "    \n",
    "    if temp==len(allsubs):\n",
    "        return(\"N/A\")"
   ]
  },
  {
   "cell_type": "code",
   "execution_count": 38,
   "metadata": {},
   "outputs": [
    {
     "data": {
      "text/plain": [
       "['hello',\n",
       " 'hell',\n",
       " 'ello',\n",
       " 'hel',\n",
       " 'ell',\n",
       " 'llo',\n",
       " 'he',\n",
       " 'el',\n",
       " 'll',\n",
       " 'lo',\n",
       " 'h',\n",
       " 'e',\n",
       " 'l',\n",
       " 'l',\n",
       " 'o']"
      ]
     },
     "execution_count": 38,
     "metadata": {},
     "output_type": "execute_result"
    }
   ],
   "source": [
    "\n",
    "import itertools\n",
    "x = \"hello\"\n",
    "# Generate all substrings\n",
    "allsubs=[]\n",
    "for i,j in itertools.combinations(range(len(x)+1),2):\n",
    "    allsubs.append(x[i:j])\n",
    "#sort by length\n",
    "allsubs=sorted(allsubs,key=len,reverse=True)\n",
    "\n",
    "allsubs"
   ]
  },
  {
   "cell_type": "code",
   "execution_count": 44,
   "metadata": {
    "scrolled": true
   },
   "outputs": [
    {
     "data": {
      "text/plain": [
       "'madam'"
      ]
     },
     "execution_count": 44,
     "metadata": {},
     "output_type": "execute_result"
    }
   ],
   "source": [
    "prob2(\"madam bovary\")"
   ]
  },
  {
   "cell_type": "code",
   "execution_count": 45,
   "metadata": {},
   "outputs": [
    {
     "data": {
      "text/plain": [
       "'b'"
      ]
     },
     "execution_count": 45,
     "metadata": {},
     "output_type": "execute_result"
    }
   ],
   "source": [
    "prob2(\"bovary\")"
   ]
  },
  {
   "cell_type": "markdown",
   "metadata": {},
   "source": [
    "## Problem 3:\n",
    "\n",
    "Write a function that prints all prime numbers smaller than x. \n",
    "\n",
    "Refer to [here](https://www.khanacademy.org/math/pre-algebra/pre-algebra-factors-multiples/pre-algebra-prime-numbers/v/prime-numbers#:~:text=Prime%20numbers%20are%20numbers%20that,factors%20are%20call%20composite%20numbers.) for definition of the **prime numbers**."
   ]
  },
  {
   "cell_type": "code",
   "execution_count": 48,
   "metadata": {},
   "outputs": [],
   "source": [
    "def isprime(x):\n",
    "    temp=True\n",
    "    if x >= 2:\n",
    "        for n in range(2, x):\n",
    "            if (x % n) == 0:\n",
    "                temp = False\n",
    "    else:\n",
    "        temp = False\n",
    "        \n",
    "    return temp\n",
    "       \n",
    "\n",
    "\n",
    "\n",
    "def prob3(x):\n",
    "    for i in range(x):\n",
    "        if isprime(i):\n",
    "            print(i)"
   ]
  },
  {
   "cell_type": "code",
   "execution_count": 57,
   "metadata": {},
   "outputs": [],
   "source": [
    "import math"
   ]
  },
  {
   "cell_type": "code",
   "execution_count": 62,
   "metadata": {},
   "outputs": [],
   "source": [
    "x = 5"
   ]
  },
  {
   "cell_type": "code",
   "execution_count": 64,
   "metadata": {},
   "outputs": [
    {
     "name": "stdout",
     "output_type": "stream",
     "text": [
      "1\n",
      "2\n",
      "1\n"
     ]
    }
   ],
   "source": [
    "for n in range(2, x):\n",
    "    print (x % n)"
   ]
  },
  {
   "cell_type": "code",
   "execution_count": 63,
   "metadata": {
    "scrolled": true
   },
   "outputs": [
    {
     "name": "stdout",
     "output_type": "stream",
     "text": [
      "1\n",
      "2\n",
      "1\n"
     ]
    }
   ],
   "source": [
    "for n in range(2, math.ceil(x)):\n",
    "    print (x % n)"
   ]
  },
  {
   "cell_type": "code",
   "execution_count": 60,
   "metadata": {},
   "outputs": [
    {
     "data": {
      "text/plain": [
       "4.795831523312719"
      ]
     },
     "execution_count": 60,
     "metadata": {},
     "output_type": "execute_result"
    }
   ],
   "source": [
    "math.sqrt(23)"
   ]
  }
 ],
 "metadata": {
  "kernelspec": {
   "display_name": "Python 3",
   "language": "python",
   "name": "python3"
  },
  "language_info": {
   "codemirror_mode": {
    "name": "ipython",
    "version": 3
   },
   "file_extension": ".py",
   "mimetype": "text/x-python",
   "name": "python",
   "nbconvert_exporter": "python",
   "pygments_lexer": "ipython3",
   "version": "3.8.5"
  }
 },
 "nbformat": 4,
 "nbformat_minor": 4
}
